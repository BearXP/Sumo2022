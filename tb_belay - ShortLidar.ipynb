{
 "cells": [
  {
   "cell_type": "markdown",
   "metadata": {},
   "source": [
    "# Connecting to the Device"
   ]
  },
  {
   "cell_type": "code",
   "execution_count": 22,
   "metadata": {},
   "outputs": [],
   "source": [
    "# Connect to the device\n",
    "import belay\n",
    "device = belay.Device(\"COM7\")"
   ]
  },
  {
   "cell_type": "code",
   "execution_count": 68,
   "metadata": {},
   "outputs": [],
   "source": [
    "# Command Codes\n",
    "GET_DISTANCE = 0x02\n",
    "STOP_GET_DISTANCE = 0x0F\n",
    "GET_CORRECTION_PARAMS = 0x12\n",
    "CONFIG_ADDRESS = 0x16\n",
    "ACK = 0x10"
   ]
  },
  {
   "cell_type": "code",
   "execution_count": 78,
   "metadata": {},
   "outputs": [],
   "source": [
    "def packetsToint(input : list) -> int:\n",
    "    noPackets = len(input)\n",
    "    runningSum = 0\n",
    "    for packetIndex in range(noPackets, 0, -1):\n",
    "        runningSum = (runningSum) * 256 + input[packetIndex-1]\n",
    "    return runningSum\n",
    "\n",
    "def byteArryToHex(arry):\n",
    "    return ' '.join('{:02x}'.format(x) for x in arry)\n",
    "    \n",
    "def intTo2Packets(inputVal : int) -> list:\n",
    "    lsb = inputVal % 256\n",
    "    msb = int(inputVal / 256)\n",
    "    return [lsb, msb]\n",
    "\n",
    "def calChecksum(body : list) -> int:\n",
    "    checksum = 0\n",
    "    for chunk in body:\n",
    "        checksum += chunk\n",
    "    return checksum % 256"
   ]
  },
  {
   "cell_type": "code",
   "execution_count": 79,
   "metadata": {},
   "outputs": [],
   "source": [
    "def shortLidar(commandCode : int, data: list = []):\n",
    "    startChars = [0xAA,0xAA,0xAA,0xAA]\n",
    "    deviceId = 0x01\n",
    "    packetOffset = [0x00, 0x00]\n",
    "    dataLenth = intTo2Packets( len(data) )\n",
    "    body = [deviceId, commandCode] + packetOffset + dataLenth + data\n",
    "    checksum = calChecksum(body)\n",
    "    msg = startChars + body + [checksum]\n",
    "    retVal = sendLidarMsg(msg)\n",
    "    return retVal\n",
    "\n",
    "@device.task\n",
    "def sendLidarMsg(msg : list):\n",
    "A function that is used to read the data from the lidar.\n",
    "    def retrieveLidarMsg(uart, retryUntilAA = True) -> bytearray:\n",
    "        from time import sleep\n",
    "        import machine\n",
    "        preData = b\"\"\n",
    "        if retryUntilAA:\n",
    "            aCount = 0\n",
    "            retryCount = 0\n",
    "            while aCount < 4:\n",
    "                charRead = uart.read(1)\n",
    "                sleep(0.01)\n",
    "                if charRead == b\"\\xaa\":\n",
    "                    aCount += 1\n",
    "                else:\n",
    "                    retryCount += 1\n",
    "                    aCount = 0\n",
    "                assert retryCount < 500, f\"Count not find start of the string aa 4 times, retried {retryCount} times\"\n",
    "            preData += b\"\\xaa\\xaa\\xaa\\xaa\"\n",
    "        preData += uart.read(6)\n",
    "        dataLen = devicePacketsToint(preData[-2:])\n",
    "        data = b\"\"\n",
    "        while len(data) < dataLen:\n",
    "            lenToRead = dataLen + 1 - len(data)\n",
    "            newData = uart.read(lenToRead)\n",
    "            if newData:\n",
    "                data += newData\n",
    "            else:\n",
    "                sleep(0.05)\n",
    "        assert dataLen+1 == len(data), f\"Incorrect amount of data received.\\r\\nExpected {dataLen+1}\\r\\nReceived {len(data)}\"\n",
    "        return preData + data\n",
    "        pass\n",
    "    def devicePacketsToint(input : list) -> int:\n",
    "        noPackets = len(input)\n",
    "        runningSum = 0\n",
    "        for packetIndex in range(noPackets, 0, -1):\n",
    "            runningSum = (runningSum) * 256 + input[packetIndex-1]\n",
    "        return runningSum\n",
    "    import machine\n",
    "    from time import sleep\n",
    "    uartPort = 0\n",
    "    uartSpeed = 921600\n",
    "    uart = machine.UART(uartPort, uartSpeed)\n",
    "    uart.write(bytearray(msg))\n",
    "    sleep(0.1)\n",
    "    # return uart.read()\n",
    "    retVal = retrieveLidarMsg(uart)\n",
    "    return retVal\n"
   ]
  },
  {
   "cell_type": "code",
   "execution_count": 80,
   "metadata": {},
   "outputs": [
    {
     "name": "stdout",
     "output_type": "stream",
     "text": [
      "b'\\xaa\\xaa\\xaa\\xaa\\x00\\x12\\x00\\x00\\x12\\x00\\x8c\\x00\\x00\\x00\\x8c\\x00\\x00\\x00(\\x17\\x00\\x00\\xd0\\x14\\x00\\x00P\\x00\\xaf'\n"
     ]
    }
   ],
   "source": [
    "# Test code to make sure that the commands work\n",
    "retVal = shortLidar(GET_CORRECTION_PARAMS)\n",
    "print(retVal)"
   ]
  },
  {
   "cell_type": "markdown",
   "metadata": {},
   "source": [
    "# Calibration"
   ]
  },
  {
   "cell_type": "markdown",
   "metadata": {},
   "source": [
    "## Message Sent: \n",
    "```python\n",
    "ld07_getCorrectionData = [0xAA,0xAA,0xAA,0xAA,0x01,0x12,0x00,0x00,0x00,0x00,0x13]\n",
    "```\n",
    "\n",
    "|Characters            | CharNo | Description                              |\n",
    "|                  ---:|---     |:---                                      |\n",
    "| 0xAA,0xAA,0xAA,0xAA, |0-3     | Start Characters                         |\n",
    "| 0x01,                |4       | Device Address 1                         |\n",
    "| 0x12,                |5       | Command Code - Get Correction Parameters |\n",
    "| 0x00,0x00,           |6-7     | Packet Offset 0                          |\n",
    "| 0x00,0x00,           |8-9    | Data Length 0                            |\n",
    "|                      |        | Data: None                               |\n",
    "| 0x13                 |10      | Checksum (0x01 + 0x12)                   |\n",
    "\n",
    "## Return Value:\n",
    "```python\n",
    "b'\\xaa\\xaa\\xaa\\xaa\\x00\\x12\\x00\\x00\\x12\\x00\\x8c\\x00\\x00\\x00\\x8c\\x00\\x00\\x00(\\x17\\x00\\x00\\xd0\\x14\\x00\\x00P\\x00\\xaf'\n",
    "```\n",
    "\n",
    "|Characters                                                                                                       | CharNo                                           | Description |\n",
    "|                                                                                                             ---:|---                                               |:---         |\n",
    "| \\xaa\\xaa\\xaa\\xaa                                                                                                |0-3                                               | Start Characters |\n",
    "| \\x00                                                                                                            |4                                                 | Device Address 0 |\n",
    "| \\x12                                                                                                            |5                                                 | Command Code - Get Correction Parameters |\n",
    "| \\x00\\x00                                                                                                        |6-7                                               | Packet Offset 0 |\n",
    "| \\x12\\x00                                                                                                        |8-9                                               | Data Length 18 bits |\n",
    "|  <br /> \\x8c\\x00\\x00\\x00 <br /> \\x8c\\x00\\x00\\x00 <br /> \\x28\\x17\\x00\\x00 <br /> \\xd0\\x14\\x00\\x00 <br /> \\50\\x00 |<br/>10-13<br/>14-17<br/>18-21<br/>22-25<br/>26-27| Data <br /> coe_k[0] = 140 <br /> coe_k[1] = 140 <br /> coe_b[0] = 5928 <br /> coe_b[1] = 5328 <br /> Points = 80 |\n",
    "| \\xaf                                                                                                            |28                                                | Checksum = 175 > 0xAF Hex |\n",
    "\n",
    "\n",
    "## Converted to a coefficient used in distance calculations: \n",
    "``` C\n",
    " double k0 = (double)coe_k[0]/10000 = 0.0140； \n",
    " double k1 = (double)coe_k[1]/10000 = 0.0140； \n",
    " double b0 = (double)coe_b[0]/10000 = 0.5928； \n",
    " double b1 = (double)coe_b[1]/10000 = 0.5328；\n",
    "```\n",
    "\n",
    "## Explanation\n",
    "K0 and B0 are the distance calculation parameters of left camera;  \n",
    "K1 and B1 are the distance calculation parameters of right camera;  \n",
    "80 is the number of distance data points measured by a single camera, indicating totally 160 data points in the two cameras. "
   ]
  },
  {
   "cell_type": "code",
   "execution_count": 81,
   "metadata": {},
   "outputs": [
    {
     "name": "stdout",
     "output_type": "stream",
     "text": [
      "returned Value: aa aa aa aa 00 12 00 00 12 00 8c 00 00 00 8c 00 00 00 28 17 00 00 d0 14 00 00 50 00 af\n",
      "k0: 0.014\n",
      "k1: 0.014\n",
      "b0: 0.5928\n",
      "b1: 0.5328\n"
     ]
    }
   ],
   "source": [
    "retVal = shortLidar(GET_CORRECTION_PARAMS)\n",
    "print(f\"returned Value: {byteArryToHex(retVal)}\")\n",
    "k0 = packetsToint(retVal[10:14]) / 10000.0\n",
    "print(f\"k0: {k0}\")\n",
    "k1 = packetsToint(retVal[14:18]) / 10000.0\n",
    "print(f\"k1: {k1}\")\n",
    "b0 = packetsToint(retVal[18:22]) / 10000.0\n",
    "print(f\"b0: {b0}\")\n",
    "b1 = packetsToint(retVal[22:26]) / 10000.0\n",
    "print(f\"b1: {b1}\")\n"
   ]
  },
  {
   "cell_type": "markdown",
   "metadata": {},
   "source": [
    "# Get the distance data"
   ]
  },
  {
   "cell_type": "code",
   "execution_count": 92,
   "metadata": {},
   "outputs": [
    {
     "name": "stdout",
     "output_type": "stream",
     "text": [
      "b'\\xaa\\xaa\\xaa\\xaa\\x00\\x02\\x00\\x00D\\x01j\\x0f\\x0e\\x00\\x00\\x1e\\x00\\xfe<\"<\"<$<&<.<,<2<0<8<@<<<@<D<V<L<h<~<\\x84<p<x<\\xa4<z<p<|<\\xba<\\xb4=\\x96<\\xc0=\\xc2=\\xde=\\xf2=\\xd6=\\xfc=\\xfc=\\xfc=\\xfc=\\xfc=\\xf4=\\xf4=\\xfc=\\xfc=\\xfc=\\xe8=\\xfa=\\xfc=\\xfc=\\xfc=\\xfc=\\xfc=\\xfc=\\xfc=\\xfc=\\xfc=\\xfc=\\xfc>\\xfc>\\xfc>\\xde>\\xd2>\\xfc>\\xfc>\\xf4>\\xce>\\xda>\\xd6>\\xe4>\\xfc>\\xe8>\\xe8>\\xdc>\\xae>\\xcc>\\xc8>\\xc4>\\xde>\\xcc>\\xa6>\\xf4>\\xa0>\\xc8>\\xc8>\\xbc>\\xac>\\xa8>\\x98>\\xc0>\\xb2>\\xd4>\\xb8>\\xd4>\\xb8>\\xe4>\\xc8>\\xde>\\xda>\\xc8>\\xe0>\\xe2>\\xe6>\\xe4>\\xd8?\\xd0?\\xdc?\\xde?\\xf8?\\xc4?\\xe8?\\xc4?\\xcc?\\xdc?\\xbe?\\xda?\\xc0?\\xba?\\xcc?\\xbc?\\xdc?\\xc6?\\xb4?\\xcc?\\xae?\\xae?\\xaa?\\x98?\\x96?\\x92?p@~?\\x80@|?v@p@v@V@P\\xaa\\xaa\\xaa\\xaa\\xaa\\xaa\\xaa\\x00\\x02\\x00\\x00D\\x01\\x0c\\x10\\x0e\\x00\\x00\\x1e\\x00\\xfe\\x00\\x14\\x00\\x14\\x00\\x14\\x00\\x16<\\x1e<\\x1a<\\x18<\\x1c\\x00\\x16\\x00\\x18<\\x1a<\\x1c<\\x1e'\n"
     ]
    }
   ],
   "source": [
    "retVal = b'\\xaa\\xaa\\xaa\\xaa\\x00\\x10\\x00\\x00\\x02\\x00\\x0f\\x01\"'\n",
    "# Note: The initial command gets an ACK message, so I'm just sending it over and over\n",
    "# In the final code I should just be able to read the distance\n",
    "while retVal[5] == 16:\n",
    "    retVal = shortLidar(GET_DISTANCE)\n",
    "num = byteArryToHex(retVal)\n",
    "print(retVal)"
   ]
  },
  {
   "cell_type": "code",
   "execution_count": 93,
   "metadata": {},
   "outputs": [
    {
     "data": {
      "text/plain": [
       "b'\\xaa\\xaa\\xaa\\xaa\\x00\\x10\\x00\\x00\\x02\\x00\\x0f\\x01\"'"
      ]
     },
     "execution_count": 93,
     "metadata": {},
     "output_type": "execute_result"
    }
   ],
   "source": [
    "shortLidar(STOP_GET_DISTANCE)"
   ]
  },
  {
   "cell_type": "code",
   "execution_count": 94,
   "metadata": {},
   "outputs": [
    {
     "name": "stdout",
     "output_type": "stream",
     "text": [
      "Start Chars aa aa aa aa\n",
      "Device Address: 0x0\n",
      "Command Code: 0x2\n",
      "Packet offset: 00 00\n",
      "Data length: 44 01\n",
      "           : 324\n",
      "Data:\n",
      "6a 0f 0e 00 00 1e 00 fe 3c 22 3c 22 3c 24 3c 26 3c 2e 3c 2c 3c 32 3c 30 3c 38 3c 40 3c 3c 3c 40 3c 44 3c 56 3c 4c 3c 68 3c 7e 3c 84 3c 70 3c 78 3c a4 3c 7a 3c 70 3c 7c 3c ba 3c b4 3d 96 3c c0 3d c2 3d de 3d f2 3d d6 3d fc 3d fc 3d fc 3d fc 3d fc 3d f4 3d f4 3d fc 3d fc 3d fc 3d e8 3d fa 3d fc 3d fc 3d fc 3d fc 3d fc 3d fc 3d fc 3d fc 3d fc 3d fc 3d fc 3e fc 3e fc 3e de 3e d2 3e fc 3e fc 3e f4 3e ce 3e da 3e d6 3e e4 3e fc 3e e8 3e e8 3e dc 3e ae 3e cc 3e c8 3e c4 3e de 3e cc 3e a6 3e f4 3e a0 3e c8 3e c8 3e bc 3e ac 3e a8 3e 98 3e c0 3e b2 3e d4 3e b8 3e d4 3e b8 3e e4 3e c8 3e de 3e da 3e c8 3e e0 3e e2 3e e6 3e e4 3e d8 3f d0 3f dc 3f de 3f f8 3f c4 3f e8 3f c4 3f cc 3f dc 3f be 3f da 3f c0 3f ba 3f cc 3f bc 3f dc 3f c6 3f b4 3f cc 3f ae 3f ae 3f aa 3f 98 3f 96 3f 92 3f 70 40 7e 3f 80 40 7c 3f 76 40 70 40 76 40 56 40 50 aa aa aa aa aa aa aa 00 02 00 00 44 01 0c 10 0e 00 00 1e 00 fe 00 14 00 14 00 14 00 16 3c 1e 3c 1a 3c 18 3c 1c 00 16 00 18 3c 1a 3c 1c 3c\n",
      "  -> Actual Length = 324\n",
      "  Timestamp: 921450\n",
      "    Values:\n",
      "[{'d': 0, 'c': 30}, {'d': 0, 'c': 254}, {'d': 60, 'c': 34}, {'d': 60, 'c': 34}, {'d': 60, 'c': 36}, {'d': 60, 'c': 38}, {'d': 60, 'c': 46}, {'d': 60, 'c': 44}, {'d': 60, 'c': 50}, {'d': 60, 'c': 48}, {'d': 60, 'c': 56}, {'d': 60, 'c': 64}, {'d': 60, 'c': 60}, {'d': 60, 'c': 64}, {'d': 60, 'c': 68}, {'d': 60, 'c': 86}, {'d': 60, 'c': 76}, {'d': 60, 'c': 104}, {'d': 60, 'c': 126}, {'d': 60, 'c': 132}, {'d': 60, 'c': 112}, {'d': 60, 'c': 120}, {'d': 60, 'c': 164}, {'d': 60, 'c': 122}, {'d': 60, 'c': 112}, {'d': 60, 'c': 124}, {'d': 60, 'c': 186}, {'d': 60, 'c': 180}, {'d': 61, 'c': 150}, {'d': 60, 'c': 192}, {'d': 61, 'c': 194}, {'d': 61, 'c': 222}, {'d': 61, 'c': 242}, {'d': 61, 'c': 214}, {'d': 61, 'c': 252}, {'d': 61, 'c': 252}, {'d': 61, 'c': 252}, {'d': 61, 'c': 252}, {'d': 61, 'c': 252}, {'d': 61, 'c': 244}, {'d': 61, 'c': 244}, {'d': 61, 'c': 252}, {'d': 61, 'c': 252}, {'d': 61, 'c': 252}, {'d': 61, 'c': 232}, {'d': 61, 'c': 250}, {'d': 61, 'c': 252}, {'d': 61, 'c': 252}, {'d': 61, 'c': 252}, {'d': 61, 'c': 252}, {'d': 61, 'c': 252}, {'d': 61, 'c': 252}, {'d': 61, 'c': 252}, {'d': 61, 'c': 252}, {'d': 61, 'c': 252}, {'d': 61, 'c': 252}, {'d': 61, 'c': 252}, {'d': 62, 'c': 252}, {'d': 62, 'c': 252}, {'d': 62, 'c': 222}, {'d': 62, 'c': 210}, {'d': 62, 'c': 252}, {'d': 62, 'c': 252}, {'d': 62, 'c': 244}, {'d': 62, 'c': 206}, {'d': 62, 'c': 218}, {'d': 62, 'c': 214}, {'d': 62, 'c': 228}, {'d': 62, 'c': 252}, {'d': 62, 'c': 232}, {'d': 62, 'c': 232}, {'d': 62, 'c': 220}, {'d': 62, 'c': 174}, {'d': 62, 'c': 204}, {'d': 62, 'c': 200}, {'d': 62, 'c': 196}, {'d': 62, 'c': 222}, {'d': 62, 'c': 204}, {'d': 62, 'c': 166}, {'d': 62, 'c': 244}, {'d': 62, 'c': 160}, {'d': 62, 'c': 200}, {'d': 62, 'c': 200}, {'d': 62, 'c': 188}, {'d': 62, 'c': 172}, {'d': 62, 'c': 168}, {'d': 62, 'c': 152}, {'d': 62, 'c': 192}, {'d': 62, 'c': 178}, {'d': 62, 'c': 212}, {'d': 62, 'c': 184}, {'d': 62, 'c': 212}, {'d': 62, 'c': 184}, {'d': 62, 'c': 228}, {'d': 62, 'c': 200}, {'d': 62, 'c': 222}, {'d': 62, 'c': 218}, {'d': 62, 'c': 200}, {'d': 62, 'c': 224}, {'d': 62, 'c': 226}, {'d': 62, 'c': 230}, {'d': 62, 'c': 228}, {'d': 62, 'c': 216}, {'d': 63, 'c': 208}, {'d': 63, 'c': 220}, {'d': 63, 'c': 222}, {'d': 63, 'c': 248}, {'d': 63, 'c': 196}, {'d': 63, 'c': 232}, {'d': 63, 'c': 196}, {'d': 63, 'c': 204}, {'d': 63, 'c': 220}, {'d': 63, 'c': 190}, {'d': 63, 'c': 218}, {'d': 63, 'c': 192}, {'d': 63, 'c': 186}, {'d': 63, 'c': 204}, {'d': 63, 'c': 188}, {'d': 63, 'c': 220}, {'d': 63, 'c': 198}, {'d': 63, 'c': 180}, {'d': 63, 'c': 204}, {'d': 63, 'c': 174}, {'d': 63, 'c': 174}, {'d': 63, 'c': 170}, {'d': 63, 'c': 152}, {'d': 63, 'c': 150}, {'d': 63, 'c': 146}, {'d': 63, 'c': 112}, {'d': 64, 'c': 126}, {'d': 63, 'c': 128}, {'d': 64, 'c': 124}, {'d': 63, 'c': 118}, {'d': 64, 'c': 112}, {'d': 64, 'c': 118}, {'d': 64, 'c': 86}, {'d': 64, 'c': 80}, {'d': 170, 'c': 170}, {'d': 170, 'c': 170}, {'d': 170, 'c': 170}, {'d': 170, 'c': 0}, {'d': 2, 'c': 0}, {'d': 0, 'c': 68}, {'d': 1, 'c': 12}, {'d': 16, 'c': 14}, {'d': 0, 'c': 0}, {'d': 30, 'c': 0}, {'d': 254, 'c': 0}, {'d': 20, 'c': 0}, {'d': 20, 'c': 0}, {'d': 20, 'c': 0}, {'d': 22, 'c': 60}, {'d': 30, 'c': 60}, {'d': 26, 'c': 60}, {'d': 24, 'c': 60}, {'d': 28, 'c': 0}, {'d': 22, 'c': 0}, {'d': 24, 'c': 60}, {'d': 26, 'c': 60}, {'d': 28, 'c': 60}]\n",
      "160\n"
     ]
    }
   ],
   "source": [
    "print(f\"Start Chars {byteArryToHex( retVal[0:4] )}\")\n",
    "print(f\"Device Address: {hex( retVal[4] )}\")\n",
    "print(f\"Command Code: {hex( retVal[5] )}\")\n",
    "print(f\"Packet offset: {byteArryToHex( retVal[6:8] )}\")\n",
    "print(f\"Data length: {byteArryToHex( retVal[8:10] )}\")\n",
    "print(f\"           : {packetsToint(retVal[8:10])}\")\n",
    "\n",
    "data = retVal[10:-1]\n",
    "print(f\"Data:\\r\\n{byteArryToHex(data)}\")\n",
    "print(f\"  -> Actual Length = {len(data)}\")\n",
    "timestamp = packetsToint( data[0:4] )\n",
    "print(f\"  Timestamp: {timestamp}\")\n",
    "def distConf(data : bytearray):\n",
    "    retVal = []\n",
    "    for i in range(160):\n",
    "        tmpMeasurement = int.from_bytes(data[2*i:2*i+2], byteorder='little')\n",
    "        tmpConfidence = (tmpMeasurement >> 9) <<1\n",
    "        tmpDistance = tmpMeasurement & 0x1ff\n",
    "        retVal.append({\"d\" : tmpDistance, \"c\" : tmpConfidence})\n",
    "    return retVal\n",
    "distances = distConf(data[4:])\n",
    "print(f\"    Values:\\r\\n{distances}\")\n",
    "print(len(distances))\n"
   ]
  },
  {
   "cell_type": "code",
   "execution_count": 95,
   "metadata": {},
   "outputs": [],
   "source": [
    "from warnings import filterwarnings\n",
    "\n",
    "\n",
    "filteredDistances = []\n",
    "filterWindow = 10\n",
    "for i in range(len(distances)-filterWindow):\n",
    "    localWindow = [point[\"d\"] for point in distances[i:i+filterWindow]]\n",
    "    minimum = min( localWindow )\n",
    "    maximum = max( localWindow )\n",
    "    if minimum > 0 and (maximum - minimum < 50):\n",
    "        filteredDistances.append((i, distances[i][\"d\"]))"
   ]
  },
  {
   "cell_type": "code",
   "execution_count": 96,
   "metadata": {},
   "outputs": [
    {
     "data": {
      "image/png": "[encoded data removed]",
      "text/plain": [
       "<Figure size 640x480 with 1 Axes>"
      ]
     },
     "metadata": {},
     "output_type": "display_data"
    }
   ],
   "source": [
    "# importing matplotlib module\n",
    "from matplotlib import pyplot as plt\n",
    "import numpy as np\n",
    "\n",
    "x = [i for i in range( len(distances) )]\n",
    "y = [point[\"d\"] for point in distances]\n",
    "plt.scatter(x, y)\n",
    "\n",
    "x = [point[0] for point in filteredDistances]\n",
    "y = [point[1] for point in filteredDistances]\n",
    "plt.scatter(x, y)\n",
    "# print(f\"X: {len(x)} / Y: {len(y)}\")\n",
    " \n",
    "# Function to plot scatter\n",
    "plt.scatter(x, y)\n",
    " \n",
    "# function to show the plot\n",
    "plt.show()"
   ]
  },
  {
   "cell_type": "markdown",
   "metadata": {},
   "source": [
    "# Done"
   ]
  },
  {
   "cell_type": "code",
   "execution_count": 20,
   "metadata": {},
   "outputs": [],
   "source": [
    "device._board.close()"
   ]
  },
  {
   "cell_type": "code",
   "execution_count": null,
   "metadata": {},
   "outputs": [],
   "source": []
  }
 ],
 "metadata": {
  "kernelspec": {
   "display_name": "Python 3.10.0 ('venv': venv)",
   "language": "python",
   "name": "python3"
  },
  "language_info": {
   "codemirror_mode": {
    "name": "ipython",
    "version": 3
   },
   "file_extension": ".py",
   "mimetype": "text/x-python",
   "name": "python",
   "nbconvert_exporter": "python",
   "pygments_lexer": "ipython3",
   "version": "3.10.2"
  },
  "orig_nbformat": 4,
  "vscode": {
   "interpreter": {
    "hash": "e59d99daae721b7a58c6cd8b58a6a89a28a3db11c9fdd453e6a4e175e7ee3d2d"
   }
  }
 },
 "nbformat": 4,
 "nbformat_minor": 2
}
