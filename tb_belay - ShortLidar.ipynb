{
 "cells": [
  {
   "cell_type": "markdown",
   "metadata": {},
   "source": [
    "# Connecting to the Device"
   ]
  },
  {
   "cell_type": "code",
   "execution_count": 1,
   "metadata": {},
   "outputs": [],
   "source": [
    "# Connect to the device\n",
    "import belay\n",
    "device = belay.Device(\"COM7\")"
   ]
  },
  {
   "cell_type": "code",
   "execution_count": 2,
   "metadata": {},
   "outputs": [],
   "source": [
    "# Command Codes\n",
    "GET_DISTANCE = 0x02\n",
    "STOP_GET_DISTANCE = 0x0F\n",
    "GET_CORRECTION_PARAMS = 0x12\n",
    "CONFIG_ADDRESS = 0x16\n",
    "ACK = 0x10"
   ]
  },
  {
   "cell_type": "code",
   "execution_count": 3,
   "metadata": {},
   "outputs": [],
   "source": [
    "def packetsToint(input : list) -> int:\n",
    "    noPackets = len(input)\n",
    "    runningSum = 0\n",
    "    for packetIndex in range(noPackets, 0, -1):\n",
    "        runningSum = (runningSum) * 256 + input[packetIndex-1]\n",
    "    return runningSum\n",
    "\n",
    "@device.task\n",
    "def devicePacketsToint(input : list) -> int:\n",
    "    noPackets = len(input)\n",
    "    runningSum = 0\n",
    "    for packetIndex in range(noPackets, 0, -1):\n",
    "        runningSum = (runningSum) * 256 + input[packetIndex-1]\n",
    "    return runningSum\n",
    "\n",
    "def byteArryToHex(arry):\n",
    "    return ' '.join('{:02x}'.format(x) for x in arry)\n",
    "    \n",
    "def intTo2Packets(inputVal : int) -> list:\n",
    "    lsb = inputVal % 256\n",
    "    msb = int(inputVal / 256)\n",
    "    return [lsb, msb]\n",
    "\n",
    "def calChecksum(body : list) -> int:\n",
    "    checksum = 0\n",
    "    for chunk in body:\n",
    "        checksum += chunk\n",
    "    return checksum % 256\n",
    "\n",
    "def shortLidar(commandCode : int, data: list = []):\n",
    "    startChars = [0xAA,0xAA,0xAA,0xAA]\n",
    "    deviceId = 0x01\n",
    "    packetOffset = [0x00, 0x00]\n",
    "    dataLenth = intTo2Packets( len(data) )\n",
    "    body = [deviceId, commandCode] + packetOffset + dataLenth + data\n",
    "    checksum = calChecksum(body)\n",
    "    msg = startChars + body + [checksum]\n",
    "    retVal = sendLidarMsg(msg)\n",
    "    return retVal\n",
    "\n",
    "@device.task\n",
    "def sendLidarMsg(msg : list):\n",
    "    import machine\n",
    "    from time import sleep\n",
    "    uartPort = 0\n",
    "    uartSpeed = 921600\n",
    "    uart = machine.UART(uartPort, uartSpeed)\n",
    "    uart.write(bytearray(msg))\n",
    "    sleep(0.1)\n",
    "    retVal = retrieveLidarMsg(uart)\n",
    "    return retVal\n",
    "\n",
    "@device.task\n",
    "def retrieveLidarMsg(uart, retryUntilAA = True) -> bytearray:\n",
    "    from time import sleep\n",
    "    preData = b\"\"\n",
    "    if retryUntilAA:\n",
    "        aCount = 0\n",
    "        retryCount = 0\n",
    "        while aCount < 4:\n",
    "            charRead = uart.read(1)\n",
    "            sleep(0.01)\n",
    "            if charRead == b\"\\xaa\":\n",
    "                aCount += 1\n",
    "            else:\n",
    "                retryCount += 1\n",
    "                aCount = 0\n",
    "            assert retryCount < 500, f\"Count not find start of the string aa 4 times, retried {retryCount} times\"\n",
    "        preData += b\"\\xaa\\xaa\\xaa\\xaa\"\n",
    "    preData += uart.read(6)\n",
    "    dataLen = devicePacketsToint(preData[-2:])\n",
    "    data = b\"\"\n",
    "    while len(data) < dataLen:\n",
    "        lenToRead = dataLen + 1 - len(data)\n",
    "        newData = uart.read(lenToRead)\n",
    "        if newData:\n",
    "            data += newData\n",
    "        else:\n",
    "            sleep(0.05)\n",
    "    assert dataLen+1 == len(data), f\"Incorrect amount of data received.\\r\\nExpected {dataLen+1}\\r\\nReceived {len(data)}\"\n",
    "    return preData + data\n",
    "    pass\n"
   ]
  },
  {
   "cell_type": "code",
   "execution_count": 4,
   "metadata": {},
   "outputs": [
    {
     "name": "stdout",
     "output_type": "stream",
     "text": [
      "b'\\xaa\\xaa\\xaa\\xaa\\x00\\x12\\x00\\x00\\x12\\x00\\x8c\\x00\\x00\\x00\\x8c\\x00\\x00\\x00(\\x17\\x00\\x00\\xd0\\x14\\x00\\x00P\\x00\\xaf'\n"
     ]
    }
   ],
   "source": [
    "# Test code to make sure that the commands work\n",
    "retVal = shortLidar(GET_CORRECTION_PARAMS)\n",
    "print(retVal)"
   ]
  },
  {
   "cell_type": "markdown",
   "metadata": {},
   "source": [
    "# Calibration"
   ]
  },
  {
   "cell_type": "code",
   "execution_count": 5,
   "metadata": {},
   "outputs": [
    {
     "name": "stdout",
     "output_type": "stream",
     "text": [
      "returned Value: aa aa aa aa 00 12 00 00 12 00 8c 00 00 00 8c 00 00 00 28 17 00 00 d0 14 00 00 50 00 af\n",
      "k0: 0.014\n",
      "k1: 0.014\n",
      "b0: 0.5928\n",
      "b1: 0.5328\n"
     ]
    }
   ],
   "source": [
    "retVal = shortLidar(GET_CORRECTION_PARAMS)\n",
    "print(f\"returned Value: {byteArryToHex(retVal)}\")\n",
    "k0 = packetsToint(retVal[10:14]) / 10000.0\n",
    "print(f\"k0: {k0}\")\n",
    "k1 = packetsToint(retVal[14:18]) / 10000.0\n",
    "print(f\"k1: {k1}\")\n",
    "b0 = packetsToint(retVal[18:22]) / 10000.0\n",
    "print(f\"b0: {b0}\")\n",
    "b1 = packetsToint(retVal[22:26]) / 10000.0\n",
    "print(f\"b1: {b1}\")\n"
   ]
  },
  {
   "cell_type": "markdown",
   "metadata": {},
   "source": [
    "## Message Sent: \n",
    "```python\n",
    "ld07_getCorrectionData = [0xAA,0xAA,0xAA,0xAA,0x01,0x12,0x00,0x00,0x00,0x00,0x13]\n",
    "```\n",
    "\n",
    "|Characters | Description |\n",
    "|---:|:---|\n",
    "| 0xAA,0xAA,0xAA,0xAA, | Start Characters |\n",
    "| 0x01, | Device Address 1 |\n",
    "| 0x12, | Command Code - Get Correction Parameters |\n",
    "| 0x00,0x00, | Packet Offset 0 |\n",
    "| 0x00,0x00, | Data Length 0 |\n",
    "|            | Data: None |\n",
    "| 0x13 | Checksum (0x01 + 0x12) |\n",
    "\n",
    "## Return Value:\n",
    "```python\n",
    "b'\\xaa\\xaa\\xaa\\xaa\\x00\\x12\\x00\\x00\\x12\\x00\\x8c\\x00\\x00\\x00\\x8c\\x00\\x00\\x00(\\x17\\x00\\x00\\xd0\\x14\\x00\\x00P\\x00\\xaf'\n",
    "```\n",
    "\n",
    "|Characters | Description |\n",
    "|---:|:---|\n",
    "| \\xaa\\xaa\\xaa\\xaa | Start Characters |\n",
    "| \\x00 | Device Address 0 |\n",
    "| \\x12 | Command Code - Get Correction Parameters |\n",
    "| \\x00\\x00 | Packet Offset 0 |\n",
    "| \\x12\\x00 | Data Length 18 bits |\n",
    "|  <br /> \\x8c\\x00\\x00\\x00 <br /> \\x8c\\x00\\x00\\x00 <br /> \\x28\\x17\\x00\\x00 <br /> \\xd0\\x14\\x00\\x00 <br /> \\50\\x00 | Data <br /> coe_k[0] = 140 <br /> coe_k[1] = 140 <br /> coe_b[0] = 5928 <br /> coe_b[1] = 5328 <br /> Points = 80 |\n",
    "| \\xaf | Checksum = 175 > 0xAF Hex |\n",
    "\n",
    "\n",
    "## Converted to a coefficient used in distance calculations: \n",
    "``` C\n",
    " double k0 = (double)coe_k[0]/10000 = 0.0140； \n",
    " double k1 = (double)coe_k[1]/10000 = 0.0140； \n",
    " double b0 = (double)coe_b[0]/10000 = 0.5928； \n",
    " double b1 = (double)coe_b[1]/10000 = 0.5328；\n",
    "```\n",
    "\n",
    "## Explanation\n",
    "K0 and B0 are the distance calculation parameters of left camera;  \n",
    "K1 and B1 are the distance calculation parameters of right camera;  \n",
    "80 is the number of distance data points measured by a single camera, indicating totally 160 data points in the two cameras. "
   ]
  },
  {
   "cell_type": "markdown",
   "metadata": {},
   "source": [
    "# Get the distance data"
   ]
  },
  {
   "cell_type": "code",
   "execution_count": 11,
   "metadata": {},
   "outputs": [
    {
     "name": "stdout",
     "output_type": "stream",
     "text": [
      "b'\\xaa\\xaa\\xaa\\xaa\\x00\\x02\\x00\\x00D\\x01\\xb4\\xe0\\x00\\x00\\x00\\x08\\x00\\x08\\x00\\n\\x00\\n\\x00\\x0c\\x00\\x0c\\x00\\x0c\\x00\\x0e\\x00\\x0e\\x00\\x0e\\x00\\x12\\x00\\x12\\x00\\x12\\x00\\x12\\x00\\x10\\x00\\x10\\x00\\x0e\\x00\\n\\x00\\n\\x00\\n\\x00\\n\\x00\\n\\x00\\n\\x00\\n\\x00\\n\\x00\\n\\x00\\x0c\\x00\\x0c\\x00\\x0c\\x00\\x0c\\x00\\x0e\\x00\\x10\\x00\\x12\\x9e\\x1a\\xa3(\\xa5h\\xa2\\xd2\\xa8\\xba\\xa6P\\xa9:\\xac(\\xac\\x1a\\x00\\x14\\x00\\x12\\x00\\x12\\x00\\x10\\x00\\x0e\\x00\\x0c\\x00\\x0c\\x00\\x0c\\x00\\x0c\\x00\\x0c\\x00\\x0c\\x00\\x0c\\x00\\x0c\\x00\\x0c\\x00\\x0c\\x00\\x12\\x01\\xdd\\x00\\x14\\x00\\x0c\\x00\\x0c\\x00\\x0c\\x00\\x0c\\x00\\x0c\\x00\\x0e\\x00\\x0c\\x00\\x0c\\x00\\x0c\\x00\\x0c\\x00\\x0cT4R\\x8eP\\xfcO\\xf8M\\xfcL\\xfcK\\xfcK\\xfc\\x00\\x08\\x00\\x08\\x00\\x10K J2H>GXG\\x82GtF\\x94E\\xaeE\\xd0E\\xe0D\\xf6D\\xfeD\\xfeC\\xfeC\\xfeC\\xfeC\\xfeB\\xfeB\\xfeB\\xfeB\\xfeB\\xfeB\\xfeB\\xfeB\\xfeB\\xfeB\\xfeB\\xfeC\\xfeC\\xfeC\\xfeC\\xfeD\\xfeD\\xfeE\\xfeF\\xfeG\\xe4H\\x96K4\\x00\\x10\\x00\\x0e\\x00\\x0e\\x00\\x12\\x00\\x10\\x00\\x10\\x00\\x0e\\x00\\x10\\x00\\x0e\\x00\\x0e\\x00\\x0e\\x00\\x0c\\x00\\x0c\\x00\\x0e\\x00\\x10\\x00\\x10\\xaa\\xaa\\xaa\\xaa\\xaa\\xaa\\xaa\\x00\\x02\\x00\\x00D\\x01w\\xe1\\x00\\x00\\x00\\x08\\x00\\x08\\x00\\n\\x00\\n\\x00\\x0c\\x00\\x0c\\x00\\x0c\\x00\\x0e\\x00\\x0e\\x00\\x0e\\x00\\x12\\x00\\x10\\x00\\x12\\x00\\x12\\x00\\x10'\n"
     ]
    }
   ],
   "source": [
    "retVal = b'\\xaa\\xaa\\xaa\\xaa\\x00\\x10\\x00\\x00\\x02\\x00\\x0f\\x01\"'\n",
    "# Note: The initial command gets an ACK message, so I'm just sending it over and over\n",
    "# In the final code I should just be able to read the distance\n",
    "while retVal[5] == 16:\n",
    "    retVal = shortLidar(GET_DISTANCE)\n",
    "num = byteArryToHex(retVal)\n",
    "print(retVal)"
   ]
  },
  {
   "cell_type": "code",
   "execution_count": 12,
   "metadata": {},
   "outputs": [
    {
     "data": {
      "text/plain": [
       "b'\\xaa\\xaa\\xaa\\xaa\\x00\\x10\\x00\\x00\\x02\\x00\\x0f\\x01\"'"
      ]
     },
     "execution_count": 12,
     "metadata": {},
     "output_type": "execute_result"
    }
   ],
   "source": [
    "shortLidar(STOP_GET_DISTANCE)"
   ]
  },
  {
   "cell_type": "code",
   "execution_count": 13,
   "metadata": {},
   "outputs": [
    {
     "name": "stdout",
     "output_type": "stream",
     "text": [
      "Start Chars aa aa aa aa\n",
      "Device Address: 0x0\n",
      "Command Code: 0x2\n",
      "Packet offset: 00 00\n",
      "Data length: 44 01\n",
      "           : 324\n",
      "Data:\n",
      "b4 e0 00 00 00 08 00 08 00 0a 00 0a 00 0c 00 0c 00 0c 00 0e 00 0e 00 0e 00 12 00 12 00 12 00 12 00 10 00 10 00 0e 00 0a 00 0a 00 0a 00 0a 00 0a 00 0a 00 0a 00 0a 00 0a 00 0c 00 0c 00 0c 00 0c 00 0e 00 10 00 12 9e 1a a3 28 a5 68 a2 d2 a8 ba a6 50 a9 3a ac 28 ac 1a 00 14 00 12 00 12 00 10 00 0e 00 0c 00 0c 00 0c 00 0c 00 0c 00 0c 00 0c 00 0c 00 0c 00 0c 00 12 01 dd 00 14 00 0c 00 0c 00 0c 00 0c 00 0c 00 0e 00 0c 00 0c 00 0c 00 0c 00 0c 54 34 52 8e 50 fc 4f f8 4d fc 4c fc 4b fc 4b fc 00 08 00 08 00 10 4b 20 4a 32 48 3e 47 58 47 82 47 74 46 94 45 ae 45 d0 45 e0 44 f6 44 fe 44 fe 43 fe 43 fe 43 fe 43 fe 42 fe 42 fe 42 fe 42 fe 42 fe 42 fe 42 fe 42 fe 42 fe 42 fe 42 fe 43 fe 43 fe 43 fe 43 fe 44 fe 44 fe 45 fe 46 fe 47 e4 48 96 4b 34 00 10 00 0e 00 0e 00 12 00 10 00 10 00 0e 00 10 00 0e 00 0e 00 0e 00 0c 00 0c 00 0e 00 10 00 10 aa aa aa aa aa aa aa 00 02 00 00 44 01 77 e1 00 00 00 08 00 08 00 0a 00 0a 00 0c 00 0c 00 0c 00 0e 00 0e 00 0e 00 12 00 10 00 12 00 12 00\n",
      "  -> Actual Length = 324\n",
      "  Timestamp: 57524\n",
      "    Values:\n",
      "[{'d': 0, 'c': 8}, {'d': 0, 'c': 8}, {'d': 0, 'c': 10}, {'d': 0, 'c': 10}, {'d': 0, 'c': 12}, {'d': 0, 'c': 12}, {'d': 0, 'c': 12}, {'d': 0, 'c': 14}, {'d': 0, 'c': 14}, {'d': 0, 'c': 14}, {'d': 0, 'c': 18}, {'d': 0, 'c': 18}, {'d': 0, 'c': 18}, {'d': 0, 'c': 18}, {'d': 0, 'c': 16}, {'d': 0, 'c': 16}, {'d': 0, 'c': 14}, {'d': 0, 'c': 10}, {'d': 0, 'c': 10}, {'d': 0, 'c': 10}, {'d': 0, 'c': 10}, {'d': 0, 'c': 10}, {'d': 0, 'c': 10}, {'d': 0, 'c': 10}, {'d': 0, 'c': 10}, {'d': 0, 'c': 10}, {'d': 0, 'c': 12}, {'d': 0, 'c': 12}, {'d': 0, 'c': 12}, {'d': 0, 'c': 12}, {'d': 0, 'c': 14}, {'d': 0, 'c': 16}, {'d': 0, 'c': 18}, {'d': 158, 'c': 26}, {'d': 163, 'c': 40}, {'d': 165, 'c': 104}, {'d': 162, 'c': 210}, {'d': 168, 'c': 186}, {'d': 166, 'c': 80}, {'d': 169, 'c': 58}, {'d': 172, 'c': 40}, {'d': 172, 'c': 26}, {'d': 0, 'c': 20}, {'d': 0, 'c': 18}, {'d': 0, 'c': 18}, {'d': 0, 'c': 16}, {'d': 0, 'c': 14}, {'d': 0, 'c': 12}, {'d': 0, 'c': 12}, {'d': 0, 'c': 12}, {'d': 0, 'c': 12}, {'d': 0, 'c': 12}, {'d': 0, 'c': 12}, {'d': 0, 'c': 12}, {'d': 0, 'c': 12}, {'d': 0, 'c': 12}, {'d': 0, 'c': 12}, {'d': 0, 'c': 18}, {'d': 257, 'c': 220}, {'d': 0, 'c': 20}, {'d': 0, 'c': 12}, {'d': 0, 'c': 12}, {'d': 0, 'c': 12}, {'d': 0, 'c': 12}, {'d': 0, 'c': 12}, {'d': 0, 'c': 14}, {'d': 0, 'c': 12}, {'d': 0, 'c': 12}, {'d': 0, 'c': 12}, {'d': 0, 'c': 12}, {'d': 0, 'c': 12}, {'d': 84, 'c': 52}, {'d': 82, 'c': 142}, {'d': 80, 'c': 252}, {'d': 79, 'c': 248}, {'d': 77, 'c': 252}, {'d': 76, 'c': 252}, {'d': 75, 'c': 252}, {'d': 75, 'c': 252}, {'d': 0, 'c': 8}, {'d': 0, 'c': 8}, {'d': 0, 'c': 16}, {'d': 75, 'c': 32}, {'d': 74, 'c': 50}, {'d': 72, 'c': 62}, {'d': 71, 'c': 88}, {'d': 71, 'c': 130}, {'d': 71, 'c': 116}, {'d': 70, 'c': 148}, {'d': 69, 'c': 174}, {'d': 69, 'c': 208}, {'d': 69, 'c': 224}, {'d': 68, 'c': 246}, {'d': 68, 'c': 254}, {'d': 68, 'c': 254}, {'d': 67, 'c': 254}, {'d': 67, 'c': 254}, {'d': 67, 'c': 254}, {'d': 67, 'c': 254}, {'d': 66, 'c': 254}, {'d': 66, 'c': 254}, {'d': 66, 'c': 254}, {'d': 66, 'c': 254}, {'d': 66, 'c': 254}, {'d': 66, 'c': 254}, {'d': 66, 'c': 254}, {'d': 66, 'c': 254}, {'d': 66, 'c': 254}, {'d': 66, 'c': 254}, {'d': 66, 'c': 254}, {'d': 67, 'c': 254}, {'d': 67, 'c': 254}, {'d': 67, 'c': 254}, {'d': 67, 'c': 254}, {'d': 68, 'c': 254}, {'d': 68, 'c': 254}, {'d': 69, 'c': 254}, {'d': 70, 'c': 254}, {'d': 71, 'c': 228}, {'d': 72, 'c': 150}, {'d': 75, 'c': 52}, {'d': 0, 'c': 16}, {'d': 0, 'c': 14}, {'d': 0, 'c': 14}, {'d': 0, 'c': 18}, {'d': 0, 'c': 16}, {'d': 0, 'c': 16}, {'d': 0, 'c': 14}, {'d': 0, 'c': 16}, {'d': 0, 'c': 14}, {'d': 0, 'c': 14}, {'d': 0, 'c': 14}, {'d': 0, 'c': 12}, {'d': 0, 'c': 12}, {'d': 0, 'c': 14}, {'d': 0, 'c': 16}, {'d': 0, 'c': 16}, {'d': 170, 'c': 170}, {'d': 170, 'c': 170}, {'d': 170, 'c': 170}, {'d': 170, 'c': 0}, {'d': 2, 'c': 0}, {'d': 0, 'c': 68}, {'d': 257, 'c': 118}, {'d': 225, 'c': 0}, {'d': 0, 'c': 0}, {'d': 8, 'c': 0}, {'d': 8, 'c': 0}, {'d': 10, 'c': 0}, {'d': 10, 'c': 0}, {'d': 12, 'c': 0}, {'d': 12, 'c': 0}, {'d': 12, 'c': 0}, {'d': 14, 'c': 0}, {'d': 14, 'c': 0}, {'d': 14, 'c': 0}, {'d': 18, 'c': 0}, {'d': 16, 'c': 0}, {'d': 18, 'c': 0}, {'d': 18, 'c': 0}]\n",
      "160\n"
     ]
    }
   ],
   "source": [
    "print(f\"Start Chars {byteArryToHex( retVal[0:4] )}\")\n",
    "print(f\"Device Address: {hex( retVal[4] )}\")\n",
    "print(f\"Command Code: {hex( retVal[5] )}\")\n",
    "print(f\"Packet offset: {byteArryToHex( retVal[6:8] )}\")\n",
    "print(f\"Data length: {byteArryToHex( retVal[8:10] )}\")\n",
    "print(f\"           : {packetsToint(retVal[8:10])}\")\n",
    "\n",
    "data = retVal[10:-1]\n",
    "print(f\"Data:\\r\\n{byteArryToHex(data)}\")\n",
    "print(f\"  -> Actual Length = {len(data)}\")\n",
    "timestamp = packetsToint( data[0:4] )\n",
    "print(f\"  Timestamp: {timestamp}\")\n",
    "def distConf(data : bytearray):\n",
    "    retVal = []\n",
    "    for i in range(160):\n",
    "        tmpMeasurement = int.from_bytes(data[2*i:2*i+2], byteorder='little')\n",
    "        tmpConfidence = (tmpMeasurement >> 9) <<1\n",
    "        tmpDistance = tmpMeasurement & 0x1ff\n",
    "        retVal.append({\"d\" : tmpDistance, \"c\" : tmpConfidence})\n",
    "    return retVal\n",
    "distances = distConf(data[4:])\n",
    "print(f\"    Values:\\r\\n{distances}\")\n",
    "print(len(distances))\n"
   ]
  },
  {
   "cell_type": "code",
   "execution_count": 14,
   "metadata": {},
   "outputs": [],
   "source": [
    "from warnings import filterwarnings\n",
    "\n",
    "\n",
    "filteredDistances = []\n",
    "filterWindow = 10\n",
    "for i in range(len(distances)-filterWindow):\n",
    "    localWindow = [point[\"d\"] for point in distances[i:i+filterWindow]]\n",
    "    minimum = min( localWindow )\n",
    "    maximum = max( localWindow )\n",
    "    if minimum > 0 and (maximum - minimum < 50):\n",
    "        filteredDistances.append((i, distances[i][\"d\"]))"
   ]
  },
  {
   "cell_type": "code",
   "execution_count": 15,
   "metadata": {},
   "outputs": [
    {
     "data": {
      "image/png": "[encoded data removed]",
      "text/plain": [
       "<Figure size 640x480 with 1 Axes>"
      ]
     },
     "metadata": {},
     "output_type": "display_data"
    }
   ],
   "source": [
    "# importing matplotlib module\n",
    "from matplotlib import pyplot as plt\n",
    "import numpy as np\n",
    "\n",
    "x = [i for i in range( len(distances) )]\n",
    "y = [point[\"d\"] for point in distances]\n",
    "plt.scatter(x, y)\n",
    "\n",
    "x = [point[0] for point in filteredDistances]\n",
    "y = [point[1] for point in filteredDistances]\n",
    "plt.scatter(x, y)\n",
    "# print(f\"X: {len(x)} / Y: {len(y)}\")\n",
    " \n",
    "# Function to plot scatter\n",
    "plt.scatter(x, y)\n",
    " \n",
    "# function to show the plot\n",
    "plt.show()"
   ]
  },
  {
   "cell_type": "markdown",
   "metadata": {},
   "source": [
    "# Done"
   ]
  },
  {
   "cell_type": "code",
   "execution_count": 2,
   "metadata": {},
   "outputs": [
    {
     "ename": "NameError",
     "evalue": "name 'device' is not defined",
     "output_type": "error",
     "traceback": [
      "\u001b[1;31m---------------------------------------------------------------------------\u001b[0m",
      "\u001b[1;31mNameError\u001b[0m                                 Traceback (most recent call last)",
      "\u001b[1;32mc:\\Python\\Sumo_2022\\tb_belay - ShortLidar.ipynb Cell 15\u001b[0m in \u001b[0;36m<cell line: 1>\u001b[1;34m()\u001b[0m\n\u001b[1;32m----> <a href='vscode-notebook-cell:/c%3A/Python/Sumo_2022/tb_belay%20-%20ShortLidar.ipynb#X20sZmlsZQ%3D%3D?line=0'>1</a>\u001b[0m device\u001b[39m.\u001b[39m_board\u001b[39m.\u001b[39mclose()\n",
      "\u001b[1;31mNameError\u001b[0m: name 'device' is not defined"
     ]
    }
   ],
   "source": [
    "device._board.close()"
   ]
  },
  {
   "cell_type": "code",
   "execution_count": null,
   "metadata": {},
   "outputs": [],
   "source": []
  }
 ],
 "metadata": {
  "kernelspec": {
   "display_name": "Python 3.10.0 ('venv': venv)",
   "language": "python",
   "name": "python3"
  },
  "language_info": {
   "codemirror_mode": {
    "name": "ipython",
    "version": 3
   },
   "file_extension": ".py",
   "mimetype": "text/x-python",
   "name": "python",
   "nbconvert_exporter": "python",
   "pygments_lexer": "ipython3",
   "version": "3.10.0"
  },
  "orig_nbformat": 4,
  "vscode": {
   "interpreter": {
    "hash": "e59d99daae721b7a58c6cd8b58a6a89a28a3db11c9fdd453e6a4e175e7ee3d2d"
   }
  }
 },
 "nbformat": 4,
 "nbformat_minor": 2
}
