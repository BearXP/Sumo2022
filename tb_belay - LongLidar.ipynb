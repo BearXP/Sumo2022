{
 "cells": [
  {
   "cell_type": "code",
   "execution_count": 6,
   "metadata": {},
   "outputs": [],
   "source": [
    "# Connect to the device\n",
    "import belay\n",
    "device = belay.Device(\"COM5\")"
   ]
  },
  {
   "cell_type": "code",
   "execution_count": 20,
   "metadata": {},
   "outputs": [],
   "source": [
    "@device.task\n",
    "def getDistances():\n",
    "    import machine\n",
    "    from time import sleep, time\n",
    "    class Lidar:\n",
    "        def __init__(self, portNo, angleOffset) -> None:\n",
    "            \"\"\"\n",
    "            The function is called when the class is instantiated. It sets up the UART port to\n",
    "            talk to the lidar senor\n",
    "\n",
    "            :param portNo: The UART port number to use\n",
    "            :param angleOffset: This is the offset of the sensor from the center of the robot\n",
    "            \"\"\"\n",
    "            self.portNo = portNo\n",
    "            self.angleOffset = angleOffset\n",
    "            uartSpeed = 230400\n",
    "            self.ser = machine.UART(self.portNo, uartSpeed)\n",
    "            self.start()\n",
    "\n",
    "        def start(self) -> None:\n",
    "            \"\"\"\n",
    "            It sends a start command to the lidar sensor, and then records the time\n",
    "            \"\"\"\n",
    "            self.ser.write(b\"b\")\n",
    "            self.startTime = time()\n",
    "\n",
    "        def stop(self) -> None:\n",
    "            \"\"\"\n",
    "            It sends a start command to the lidar sensor, and then records the time\n",
    "            \"\"\"\n",
    "            self.ser.write(b\"e\")\n",
    "            self.startTime = None\n",
    "\n",
    "        def _read_serial(self) -> bytes:\n",
    "            \"\"\"\n",
    "            It reads the serial port and returns the data\n",
    "            :return: The data is being returned as a byte string.\n",
    "            \"\"\"\n",
    "            # If the start command has not been sent, then make sure it's started\n",
    "            if self.startTime == None:\n",
    "                self.start()\n",
    "            # Note: The lidar needs ~2s after startup to spin up\n",
    "            startupWaitTime = self.startTime + 2 - time()\n",
    "            if startupWaitTime > 0:\n",
    "                sleep(startupWaitTime)\n",
    "            # Read back the data\n",
    "            retryCount = 0\n",
    "            data = b\"\"\n",
    "            while True:\n",
    "                bit = self.ser.read(1)\n",
    "                # If it's the end of the data stream, return the data found so far\n",
    "                if bit == None:\n",
    "                    break\n",
    "                # If we receive the sync character, read and return the full packet\n",
    "                elif bit == b'\\xFA':\n",
    "                    packet = self.ser.read(41)\n",
    "                    if packet:\n",
    "                        data = bit + packet\n",
    "                    break\n",
    "                # If we get data but it's not the sync bit, ignore and retry\n",
    "                else:\n",
    "                    data += bit\n",
    "                    if retryCount > 100:\n",
    "                        break\n",
    "                    retryCount += 1\n",
    "                    sleep(0.01)\n",
    "            return data\n",
    "\n",
    "        def _read_range(self, data):\n",
    "            \"\"\"\n",
    "            The function takes in a byte array, and returns a tuple of the RPM, distance, and intensity\n",
    "            :param data: The data received from the sensor\n",
    "            \"\"\"\n",
    "            bytes_data = list(data)\n",
    "            degree = (bytes_data[1] - 0xA0) * 6\n",
    "            rpm = (bytes_data[3] << 8) | bytes_data[2]\n",
    "            distances = [0] * 360\n",
    "            intensities = [0] * 360\n",
    "            if bytes_data[41] != bytes_data[40] or bytes_data[40] == 0:\n",
    "                return f\"invalid data: {degree}\"\n",
    "            for i in range(6):\n",
    "                distance = (bytes_data[2 + (i * 4) + 3] << 8) | (\n",
    "                    bytes_data[2 + (i * 4) + 2]\n",
    "                )\n",
    "                intensity = (bytes_data[2 + (i * 4) + 1] << 8) | (\n",
    "                    bytes_data[2 + (i * 4) + 0]\n",
    "                )\n",
    "                angle = degree + i\n",
    "                angle_offsetted = (\n",
    "                    angle + self.angleOffset\n",
    "                    if angle + self.angleOffset < 360\n",
    "                    else angle + self.angleOffset - 360\n",
    "                )\n",
    "                distances[angle_offsetted] = distance\n",
    "                intensities[angle_offsetted] = intensity\n",
    "            return intensities\n",
    "\n",
    "        def update(self):\n",
    "            \"\"\"\n",
    "            It reads the serial port, checks the first byte of the data, and if it's not 250, it returns an\n",
    "            error message. Otherwise, it returns the range\n",
    "            :return: The data is being returned as a string.\n",
    "            \"\"\"\n",
    "            data = self._read_serial()\n",
    "            if len(list(data)) == 0:\n",
    "                return f\"Error, no data was returned from the sensor\"\n",
    "            if data[0] == 252:\n",
    "                return f\"Error, data[0] was 252. Make sure the PWM signal is wired up correctly\"\n",
    "            if data[0] != 250:\n",
    "                return f\"Error, data[0] was {data[0]} dec - {hex(data[0])} hex\"\n",
    "            return self._read_range(data)\n",
    "    lidar = Lidar(portNo=1, angleOffset=0)\n",
    "    vals = lidar.update()\n",
    "    lidar.stop()\n",
    "    return vals\n",
    "    \n"
   ]
  },
  {
   "cell_type": "code",
   "execution_count": 27,
   "metadata": {},
   "outputs": [],
   "source": [
    "distances = getDistances()\n",
    "if type(distances) == str:\n",
    "    print(distances)"
   ]
  },
  {
   "cell_type": "code",
   "execution_count": 28,
   "metadata": {},
   "outputs": [
    {
     "data": {
      "image/png": "[encoded data removed]",
      "text/plain": [
       "<Figure size 640x480 with 1 Axes>"
      ]
     },
     "metadata": {},
     "output_type": "display_data"
    }
   ],
   "source": [
    "# importing matplotlib module\n",
    "from matplotlib import pyplot as plt\n",
    "import numpy as np\n",
    "\n",
    "x = [i for i in range( len(distances) )]\n",
    "y = [0] * 360\n",
    "for index, dist in enumerate(distances):\n",
    "    if dist < 1500:\n",
    "        y[index] = dist[index]\n",
    "plt.scatter(x, y)\n",
    "\n",
    "# x = [point[0] for point in filteredDistances]\n",
    "# y = [point[1] for point in filteredDistances]\n",
    "# plt.scatter(x, y)\n",
    " \n",
    "# function to show the plot\n",
    "plt.show()"
   ]
  },
  {
   "cell_type": "code",
   "execution_count": 5,
   "metadata": {},
   "outputs": [],
   "source": [
    "device._board.close()"
   ]
  }
 ],
 "metadata": {
  "kernelspec": {
   "display_name": "Python 3.10.0 ('venv': venv)",
   "language": "python",
   "name": "python3"
  },
  "language_info": {
   "codemirror_mode": {
    "name": "ipython",
    "version": 3
   },
   "file_extension": ".py",
   "mimetype": "text/x-python",
   "name": "python",
   "nbconvert_exporter": "python",
   "pygments_lexer": "ipython3",
   "version": "3.10.0"
  },
  "orig_nbformat": 4,
  "vscode": {
   "interpreter": {
    "hash": "e59d99daae721b7a58c6cd8b58a6a89a28a3db11c9fdd453e6a4e175e7ee3d2d"
   }
  }
 },
 "nbformat": 4,
 "nbformat_minor": 2
}
