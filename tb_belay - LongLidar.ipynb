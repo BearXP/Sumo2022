{
 "cells": [
  {
   "cell_type": "code",
   "execution_count": 2,
   "metadata": {},
   "outputs": [],
   "source": [
    "# Connect to the device\n",
    "import belay\n",
    "device = belay.Device(\"COM5\")"
   ]
  },
  {
   "cell_type": "code",
   "execution_count": 3,
   "metadata": {},
   "outputs": [],
   "source": [
    "@device.task\n",
    "def getDistances():\n",
    "    import machine\n",
    "    from time import sleep, time\n",
    "    class Lidar:\n",
    "        def __init__(self, portNo, angleOffset) -> None:\n",
    "            \"\"\"\n",
    "            The function is called when the class is instantiated. It sets up the UART port to\n",
    "            talk to the lidar senor\n",
    "\n",
    "            :param portNo: The UART port number to use\n",
    "            :param angleOffset: This is the offset of the sensor from the center of the robot\n",
    "            \"\"\"\n",
    "            self.portNo = portNo\n",
    "            self.angleOffset = angleOffset\n",
    "            uartSpeed = 230400\n",
    "            self.ser = machine.UART(self.portNo, uartSpeed)\n",
    "            self.distances = [-1] * 360\n",
    "            self.intensities = [-1] * 360\n",
    "            self.start()\n",
    "\n",
    "        def start(self) -> None:\n",
    "            \"\"\"\n",
    "            It sends a start command to the lidar sensor, and then records the time\n",
    "            \"\"\"\n",
    "            self.ser.write(b\"b\")\n",
    "            self.startTime = time()\n",
    "\n",
    "        def stop(self) -> None:\n",
    "            \"\"\"\n",
    "            It sends a start command to the lidar sensor, and then records the time\n",
    "            \"\"\"\n",
    "            self.ser.write(b\"e\")\n",
    "            self.startTime = None\n",
    "\n",
    "        def _read_serial(self) -> bytes:\n",
    "            \"\"\"\n",
    "            It reads the serial port and returns the data\n",
    "            :return: The data is being returned as a byte string.\n",
    "            \"\"\"\n",
    "            # If the start command has not been sent, then make sure it's started\n",
    "            if self.startTime == None:\n",
    "                self.start()\n",
    "            # Note: The lidar needs ~2s after startup to spin up\n",
    "            startupWaitTime = self.startTime + 2 - time()\n",
    "            if startupWaitTime > 0:\n",
    "                sleep(startupWaitTime)\n",
    "            # Read back the data\n",
    "            retryCount = 0\n",
    "            data = b\"\"\n",
    "            while True:\n",
    "                bit = self.ser.read(1)\n",
    "                # If it's the end of the data stream, return the data found so far\n",
    "                if bit == None:\n",
    "                    break\n",
    "                # If we receive the sync character, read and return the full packet\n",
    "                elif bit == b'\\xFA':\n",
    "                    packet = self.ser.read(41)\n",
    "                    if packet:\n",
    "                        data = bit + packet\n",
    "                    break\n",
    "                # If we get data but it's not the sync bit, ignore and retry\n",
    "                else:\n",
    "                    data += bit\n",
    "                    if retryCount > 100:\n",
    "                        break\n",
    "                    retryCount += 1\n",
    "                    sleep(0.01)\n",
    "            return data\n",
    "\n",
    "        def _read_range(self, data):\n",
    "            \"\"\"\n",
    "            The function takes in a byte array, and returns a tuple of the RPM, distance, and intensity\n",
    "            :param data: The data received from the sensor\n",
    "            \"\"\"\n",
    "            bytes_data = list(data)\n",
    "            degree = (bytes_data[1] - 0xA0) * 6\n",
    "            rpm = (bytes_data[3] << 8) | bytes_data[2]\n",
    "            if bytes_data[41] != bytes_data[40] or bytes_data[40] == 0:\n",
    "                return f\"invalid data: {degree}\"\n",
    "            for i in range(6):\n",
    "                distance = (bytes_data[2 + (i * 4) + 3] << 8) | (\n",
    "                    bytes_data[2 + (i * 4) + 2]\n",
    "                )\n",
    "                intensity = (bytes_data[2 + (i * 4) + 1] << 8) | (\n",
    "                    bytes_data[2 + (i * 4) + 0]\n",
    "                )\n",
    "                angle = degree + i\n",
    "                angle_offsetted = (\n",
    "                    angle + self.angleOffset\n",
    "                    if angle + self.angleOffset < 360\n",
    "                    else angle + self.angleOffset - 360\n",
    "                )\n",
    "                self.distances[angle_offsetted] = distance\n",
    "                self.intensities[angle_offsetted] = intensity\n",
    "            return self.distances\n",
    "\n",
    "        def update(self):\n",
    "            \"\"\"\n",
    "            It reads the serial port, checks the first byte of the data, and if it's not 250, it returns an\n",
    "            error message. Otherwise, it returns the range\n",
    "            :return: The data is being returned as a string.\n",
    "            \"\"\"\n",
    "            data = self._read_serial()\n",
    "            if len(list(data)) == 0:\n",
    "                return f\"Error, no data was returned from the sensor\"\n",
    "            if data[0] == 252:\n",
    "                return f\"Error, data[0] was 252. Make sure the PWM signal is wired up correctly\"\n",
    "            if data[0] != 250:\n",
    "                return f\"Error, data[0] was {data[0]} dec - {hex(data[0])} hex\"\n",
    "            return self._read_range(data)\n",
    "    lidar = Lidar(portNo=1, angleOffset=0)\n",
    "    for _ in range(100):\n",
    "        vals = lidar.update()\n",
    "    lidar.stop()\n",
    "    return lidar.distances, lidar.intensities\n",
    "    \n"
   ]
  },
  {
   "cell_type": "code",
   "execution_count": 7,
   "metadata": {},
   "outputs": [
    {
     "name": "stdout",
     "output_type": "stream",
     "text": [
      "[3475, 14, 897, 72, 14, 0, 0, 1, 0, 0, 1, 0, 131, 1, 3333, 861, 10, 3294, 1080, 10, 3283, 1161, 10, 3286, 1157, 10, 3285, 1109, 10, 3297, 843, 10, 3311, 832, 10, 3347, 777, 10, 3401, 761, 10, 3438, 694, 10, 3490, 690, 10, 3540, 385, 10, 3777, 278, 10, 3835, 283, 10, 3928, 258, 10, 0, 50, 1, 0, 207, 10, 0, 242, 10, 0, 237, 10, 0, 0, 1, 0, 0, 1, 0, 95, 1, 0, 103, 10, 0, 51, 1, 0, 89, 1, 0, 63, 1, 0, 325, 10, 0, 333, 10, 0, 347, 10, 0, 369, 10, 0, 383, 10, 0, 393, 10, 0, 394, 10, 0, 411, 10, 0, 418, 10, 0, 389, 10, 0, 371, 10, 0, 363, 10, 0, 0, 1, 2383, 91, 1, 1993, 585, 11, 0, 696, 11, 2100, 2284, 12, 1305, 2233, 12, 1255, 2211, 12, 1309, 2083, 12, 1066, 3920, 14, 700, 3379, 14, 698, 3969, 14, 702, 3438, 14, 703, 3185, 15, 623, 4014, 16, 608, 3933, 16, 608, 2890, 15, 664, 4646, 15, 670, 2925, 15, 634, 3339, 15, 658, 2998, 15, 678, 5598, 15, 682, 6199, 14, 899, 2038, 13, 886, 5542, 20, 351, 5569, 21, 342, 5394, 21, 326, 5383, 21, 323, 58, 1, 0, 47, 1, 0, 74, 1, 849, 706, 13, 925, 2084, 13, 882, 1407, 13, 858, 42, 1, 0, 54, 1, 0, 414, 13, 1059, 64, 1, 1060, 77, 14, 994, 296, 12, 0, 1681, 13, 967, 2627, 13, 0, 230, 16, 606, 5260, 16, 563, 218, 16, 611, 785, 13, 794, 2833, 14, 769, 1054, 14, 0, 63, 1, 0, 662, 28, 214, 1242, 29, 208, 1695, 29, 205, 3315, 30, 201, 4798, 30, 199, 7968, 30, 197, 7717, 30, 196, 3207, 31, 405, 12024, 26, 303, 7520, 38, 169, 10019, 34, 175, 64, 1, 119, 11751, 49, 117, 8034, 31, 0, 5321, 35, 0, 4441, 1094, 0, 4603, 1094, 0, 0, 70, 0, 80, 1, 0, 77, 1, 0, 99, 1, 0, 2717, 13, 916, 2398, 13, 944, 2297, 13, 1006, 2399, 13, 1036, 2093, 13, 1149, 1813, 12, 1217, 0, 1, 0, 54, 1, 1008]\n"
     ]
    }
   ],
   "source": [
    "distances, intensities = getDistances()\n",
    "# if type(distances) == str:\n",
    "#     print(distances)\n",
    "print( distances )"
   ]
  },
  {
   "cell_type": "code",
   "execution_count": 11,
   "metadata": {},
   "outputs": [
    {
     "data": {
      "image/png": "[encoded data removed]",
      "text/plain": [
       "<Figure size 640x480 with 1 Axes>"
      ]
     },
     "metadata": {},
     "output_type": "display_data"
    }
   ],
   "source": [
    "# importing matplotlib module\n",
    "from matplotlib import pyplot as plt\n",
    "import numpy as np\n",
    "\n",
    "def plotVals(vals):\n",
    "    x =[]\n",
    "    y = []\n",
    "    for i, val in enumerate(vals):\n",
    "        if val > 100 and val < 1000:\n",
    "            x.append(i)\n",
    "            y.append(val)\n",
    "    plt.scatter(x, y)\n",
    "\n",
    "plotVals(distances)\n",
    "#plotVals(intensities)\n",
    "\n",
    "plt.show()"
   ]
  },
  {
   "cell_type": "code",
   "execution_count": 12,
   "metadata": {},
   "outputs": [],
   "source": [
    "device._board.close()"
   ]
  },
  {
   "cell_type": "code",
   "execution_count": null,
   "metadata": {},
   "outputs": [],
   "source": []
  }
 ],
 "metadata": {
  "kernelspec": {
   "display_name": "Python 3.10.0 ('venv': venv)",
   "language": "python",
   "name": "python3"
  },
  "language_info": {
   "codemirror_mode": {
    "name": "ipython",
    "version": 3
   },
   "file_extension": ".py",
   "mimetype": "text/x-python",
   "name": "python",
   "nbconvert_exporter": "python",
   "pygments_lexer": "ipython3",
   "version": "3.10.0"
  },
  "orig_nbformat": 4,
  "vscode": {
   "interpreter": {
    "hash": "e59d99daae721b7a58c6cd8b58a6a89a28a3db11c9fdd453e6a4e175e7ee3d2d"
   }
  }
 },
 "nbformat": 4,
 "nbformat_minor": 2
}
