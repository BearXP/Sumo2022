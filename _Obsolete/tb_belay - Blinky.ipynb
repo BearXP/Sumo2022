{
 "cells": [
  {
   "cell_type": "code",
   "execution_count": 20,
   "metadata": {},
   "outputs": [],
   "source": [
    "# Connect to the device\n",
    "import belay\n",
    "device = belay.Device(\"COM7\")\n",
    "\n",
    "# import binascii, errno, hashlib, machine, os, time\n",
    "# from machine import ADC, I2C, Pin, PWM, SPI, Timer\n",
    "# from time import sleep\n",
    "# from micropython import const"
   ]
  },
  {
   "cell_type": "code",
   "execution_count": 21,
   "metadata": {},
   "outputs": [],
   "source": [
    "@device.task\n",
    "def set_led(state):\n",
    "    from machine import Pin\n",
    "    Pin(25, Pin.OUT).value(state)\n",
    "    return \"Hello from the Pico\""
   ]
  },
  {
   "cell_type": "code",
   "execution_count": 22,
   "metadata": {},
   "outputs": [
    {
     "name": "stdout",
     "output_type": "stream",
     "text": [
      "New State: Hello from the Pico\n"
     ]
    }
   ],
   "source": [
    "newState = set_led(True)\n",
    "print(f\"New State: {newState}\")"
   ]
  },
  {
   "cell_type": "code",
   "execution_count": 17,
   "metadata": {},
   "outputs": [
    {
     "data": {
      "text/plain": [
       "'Hello from the Pico'"
      ]
     },
     "execution_count": 17,
     "metadata": {},
     "output_type": "execute_result"
    }
   ],
   "source": [
    "set_led(False)"
   ]
  },
  {
   "cell_type": "code",
   "execution_count": 18,
   "metadata": {},
   "outputs": [],
   "source": [
    "device._board.close()"
   ]
  },
  {
   "cell_type": "code",
   "execution_count": null,
   "metadata": {},
   "outputs": [],
   "source": []
  }
 ],
 "metadata": {
  "kernelspec": {
   "display_name": "Python 3.10.2 ('venv': venv)",
   "language": "python",
   "name": "python3"
  },
  "language_info": {
   "codemirror_mode": {
    "name": "ipython",
    "version": 3
   },
   "file_extension": ".py",
   "mimetype": "text/x-python",
   "name": "python",
   "nbconvert_exporter": "python",
   "pygments_lexer": "ipython3",
   "version": "3.10.2"
  },
  "orig_nbformat": 4,
  "vscode": {
   "interpreter": {
    "hash": "8d7ef689a49b222ceca0c93e1c6a7aa1a53fc1c29a3553ea7c296957595b3fb6"
   }
  }
 },
 "nbformat": 4,
 "nbformat_minor": 2
}
